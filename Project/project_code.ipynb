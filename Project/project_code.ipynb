{
 "cells": [
  {
   "cell_type": "code",
   "execution_count": 2,
   "metadata": {},
   "outputs": [],
   "source": [
    "import pandas as pd\n",
    "import os\n",
    "import numpy as np\n",
    "import keras\n",
    "import seaborn as sns\n",
    "import matplotlib.pyplot as plt\n",
    "from keras.models import Sequential\n",
    "import PIL\n",
    "from PIL import Image\n",
    "from keras.layers import Conv2D,Flatten,Dense,Dropout,BatchNormalization,MaxPooling2D\n",
    "from sklearn.preprocessing import OneHotEncoder\n",
    "from sklearn.model_selection import train_test_split"
   ]
  },
  {
   "cell_type": "code",
   "execution_count": 3,
   "metadata": {},
   "outputs": [],
   "source": [
    "non_demented_paths = []\n",
    "very_mild_demented_paths = []\n",
    "mild_demented_paths = []\n",
    "moderate_demented_paths = []\n",
    "\n",
    "# Download per category\n",
    "def append_file_paths(directory, target_list):\n",
    "    for dirname, _, filenames in os.walk(directory):\n",
    "        for filename in filenames:\n",
    "            target_list.append(os.path.join(dirname, filename))\n",
    "\n",
    "append_file_paths('Data/Non Demented', non_demented_paths)\n",
    "append_file_paths('Data/Very mild Dementia', very_mild_demented_paths)\n",
    "append_file_paths('Data/Mild Dementia', mild_demented_paths)\n",
    "append_file_paths('Data/Moderate Dementia', moderate_demented_paths)"
   ]
  },
  {
   "cell_type": "code",
   "execution_count": 4,
   "metadata": {},
   "outputs": [],
   "source": [
    "non_demented=non_demented_paths[0:488]\n",
    "mild_demented=mild_demented_paths[0:488]\n",
    "very_mild_demented=very_mild_demented_paths[0:488]\n",
    "moderate_demented = moderate_demented_paths"
   ]
  },
  {
   "cell_type": "code",
   "execution_count": 5,
   "metadata": {},
   "outputs": [
    {
     "data": {
      "text/html": [
       "<style>#sk-container-id-1 {color: black;}#sk-container-id-1 pre{padding: 0;}#sk-container-id-1 div.sk-toggleable {background-color: white;}#sk-container-id-1 label.sk-toggleable__label {cursor: pointer;display: block;width: 100%;margin-bottom: 0;padding: 0.3em;box-sizing: border-box;text-align: center;}#sk-container-id-1 label.sk-toggleable__label-arrow:before {content: \"▸\";float: left;margin-right: 0.25em;color: #696969;}#sk-container-id-1 label.sk-toggleable__label-arrow:hover:before {color: black;}#sk-container-id-1 div.sk-estimator:hover label.sk-toggleable__label-arrow:before {color: black;}#sk-container-id-1 div.sk-toggleable__content {max-height: 0;max-width: 0;overflow: hidden;text-align: left;background-color: #f0f8ff;}#sk-container-id-1 div.sk-toggleable__content pre {margin: 0.2em;color: black;border-radius: 0.25em;background-color: #f0f8ff;}#sk-container-id-1 input.sk-toggleable__control:checked~div.sk-toggleable__content {max-height: 200px;max-width: 100%;overflow: auto;}#sk-container-id-1 input.sk-toggleable__control:checked~label.sk-toggleable__label-arrow:before {content: \"▾\";}#sk-container-id-1 div.sk-estimator input.sk-toggleable__control:checked~label.sk-toggleable__label {background-color: #d4ebff;}#sk-container-id-1 div.sk-label input.sk-toggleable__control:checked~label.sk-toggleable__label {background-color: #d4ebff;}#sk-container-id-1 input.sk-hidden--visually {border: 0;clip: rect(1px 1px 1px 1px);clip: rect(1px, 1px, 1px, 1px);height: 1px;margin: -1px;overflow: hidden;padding: 0;position: absolute;width: 1px;}#sk-container-id-1 div.sk-estimator {font-family: monospace;background-color: #f0f8ff;border: 1px dotted black;border-radius: 0.25em;box-sizing: border-box;margin-bottom: 0.5em;}#sk-container-id-1 div.sk-estimator:hover {background-color: #d4ebff;}#sk-container-id-1 div.sk-parallel-item::after {content: \"\";width: 100%;border-bottom: 1px solid gray;flex-grow: 1;}#sk-container-id-1 div.sk-label:hover label.sk-toggleable__label {background-color: #d4ebff;}#sk-container-id-1 div.sk-serial::before {content: \"\";position: absolute;border-left: 1px solid gray;box-sizing: border-box;top: 0;bottom: 0;left: 50%;z-index: 0;}#sk-container-id-1 div.sk-serial {display: flex;flex-direction: column;align-items: center;background-color: white;padding-right: 0.2em;padding-left: 0.2em;position: relative;}#sk-container-id-1 div.sk-item {position: relative;z-index: 1;}#sk-container-id-1 div.sk-parallel {display: flex;align-items: stretch;justify-content: center;background-color: white;position: relative;}#sk-container-id-1 div.sk-item::before, #sk-container-id-1 div.sk-parallel-item::before {content: \"\";position: absolute;border-left: 1px solid gray;box-sizing: border-box;top: 0;bottom: 0;left: 50%;z-index: -1;}#sk-container-id-1 div.sk-parallel-item {display: flex;flex-direction: column;z-index: 1;position: relative;background-color: white;}#sk-container-id-1 div.sk-parallel-item:first-child::after {align-self: flex-end;width: 50%;}#sk-container-id-1 div.sk-parallel-item:last-child::after {align-self: flex-start;width: 50%;}#sk-container-id-1 div.sk-parallel-item:only-child::after {width: 0;}#sk-container-id-1 div.sk-dashed-wrapped {border: 1px dashed gray;margin: 0 0.4em 0.5em 0.4em;box-sizing: border-box;padding-bottom: 0.4em;background-color: white;}#sk-container-id-1 div.sk-label label {font-family: monospace;font-weight: bold;display: inline-block;line-height: 1.2em;}#sk-container-id-1 div.sk-label-container {text-align: center;}#sk-container-id-1 div.sk-container {/* jupyter's `normalize.less` sets `[hidden] { display: none; }` but bootstrap.min.css set `[hidden] { display: none !important; }` so we also need the `!important` here to be able to override the default hidden behavior on the sphinx rendered scikit-learn.org. See: https://github.com/scikit-learn/scikit-learn/issues/21755 */display: inline-block !important;position: relative;}#sk-container-id-1 div.sk-text-repr-fallback {display: none;}</style><div id=\"sk-container-id-1\" class=\"sk-top-container\"><div class=\"sk-text-repr-fallback\"><pre>OneHotEncoder()</pre><b>In a Jupyter environment, please rerun this cell to show the HTML representation or trust the notebook. <br />On GitHub, the HTML representation is unable to render, please try loading this page with nbviewer.org.</b></div><div class=\"sk-container\" hidden><div class=\"sk-item\"><div class=\"sk-estimator sk-toggleable\"><input class=\"sk-toggleable__control sk-hidden--visually\" id=\"sk-estimator-id-1\" type=\"checkbox\" checked><label for=\"sk-estimator-id-1\" class=\"sk-toggleable__label sk-toggleable__label-arrow\">OneHotEncoder</label><div class=\"sk-toggleable__content\"><pre>OneHotEncoder()</pre></div></div></div></div></div>"
      ],
      "text/plain": [
       "OneHotEncoder()"
      ]
     },
     "execution_count": 5,
     "metadata": {},
     "output_type": "execute_result"
    }
   ],
   "source": [
    "encoder= OneHotEncoder()\n",
    "encoder.fit([[0],[1],[2],[3]])"
   ]
  },
  {
   "cell_type": "code",
   "execution_count": 6,
   "metadata": {},
   "outputs": [
    {
     "data": {
      "text/plain": [
       "array([[[1., 0., 0., 0.]],\n",
       "\n",
       "       [[1., 0., 0., 0.]],\n",
       "\n",
       "       [[1., 0., 0., 0.]],\n",
       "\n",
       "       ...,\n",
       "\n",
       "       [[0., 0., 0., 1.]],\n",
       "\n",
       "       [[0., 0., 0., 1.]],\n",
       "\n",
       "       [[0., 0., 0., 1.]]])"
      ]
     },
     "execution_count": 6,
     "metadata": {},
     "output_type": "execute_result"
    }
   ],
   "source": [
    "encoded_labels = []\n",
    "\n",
    "def process_images(image_list, label):\n",
    "    for s in image_list:\n",
    "        img = Image.open(s)\n",
    "        img = img.resize((128,128))\n",
    "        img = np.array(img)\n",
    "        if img.shape == (128, 128, 3):\n",
    "            data.append(np.array(img))\n",
    "            encoded_labels.append(encoder.transform([[label]]).toarray())\n",
    "\n",
    "data = []\n",
    "result = []\n",
    "\n",
    "process_images(non_demented, 0)\n",
    "process_images(mild_demented, 1)\n",
    "process_images(moderate_demented, 2)\n",
    "process_images(very_mild_demented, 3)\n",
    "#print(encoded_labels)\n",
    "result = np.array(encoded_labels)\n",
    "result"
   ]
  },
  {
   "cell_type": "code",
   "execution_count": 7,
   "metadata": {},
   "outputs": [
    {
     "data": {
      "text/plain": [
       "(1952, 128, 128, 3)"
      ]
     },
     "execution_count": 7,
     "metadata": {},
     "output_type": "execute_result"
    }
   ],
   "source": [
    "X=np.array(data)\n",
    "X.shape"
   ]
  },
  {
   "cell_type": "code",
   "execution_count": 8,
   "metadata": {},
   "outputs": [
    {
     "data": {
      "text/plain": [
       "array([0, 0, 0, ..., 3, 3, 3])"
      ]
     },
     "execution_count": 8,
     "metadata": {},
     "output_type": "execute_result"
    }
   ],
   "source": [
    "y = result.reshape(X.shape[0],4)\n",
    "y = np.argmax(y, axis=1)\n",
    "y"
   ]
  },
  {
   "cell_type": "code",
   "execution_count": 9,
   "metadata": {},
   "outputs": [],
   "source": [
    "X_train,X_test,y_train,y_test= train_test_split(X,y,test_size=0.2,random_state=42)"
   ]
  },
  {
   "cell_type": "code",
   "execution_count": 10,
   "metadata": {},
   "outputs": [
    {
     "name": "stdout",
     "output_type": "stream",
     "text": [
      "Model: \"sequential\"\n",
      "_________________________________________________________________\n",
      " Layer (type)                Output Shape              Param #   \n",
      "=================================================================\n",
      " conv2d (Conv2D)             (None, 128, 128, 32)      416       \n",
      "                                                                 \n",
      " conv2d_1 (Conv2D)           (None, 128, 128, 32)      4128      \n",
      "                                                                 \n",
      " batch_normalization (Batch  (None, 128, 128, 32)      128       \n",
      " Normalization)                                                  \n",
      "                                                                 \n",
      " max_pooling2d (MaxPooling2  (None, 64, 64, 32)        0         \n",
      " D)                                                              \n",
      "                                                                 \n",
      " dropout (Dropout)           (None, 64, 64, 32)        0         \n",
      "                                                                 \n",
      " conv2d_2 (Conv2D)           (None, 64, 64, 64)        8256      \n",
      "                                                                 \n",
      " conv2d_3 (Conv2D)           (None, 64, 64, 64)        16448     \n",
      "                                                                 \n",
      " batch_normalization_1 (Bat  (None, 64, 64, 64)        256       \n",
      " chNormalization)                                                \n",
      "                                                                 \n",
      " max_pooling2d_1 (MaxPoolin  (None, 32, 32, 64)        0         \n",
      " g2D)                                                            \n",
      "                                                                 \n",
      " dropout_1 (Dropout)         (None, 32, 32, 64)        0         \n",
      "                                                                 \n",
      " conv2d_4 (Conv2D)           (None, 32, 32, 128)       32896     \n",
      "                                                                 \n",
      " conv2d_5 (Conv2D)           (None, 32, 32, 128)       65664     \n",
      "                                                                 \n",
      " batch_normalization_2 (Bat  (None, 32, 32, 128)       512       \n",
      " chNormalization)                                                \n",
      "                                                                 \n",
      " max_pooling2d_2 (MaxPoolin  (None, 16, 16, 128)       0         \n",
      " g2D)                                                            \n",
      "                                                                 \n",
      " dropout_2 (Dropout)         (None, 16, 16, 128)       0         \n",
      "                                                                 \n",
      " flatten (Flatten)           (None, 32768)             0         \n",
      "                                                                 \n",
      " dense (Dense)               (None, 256)               8388864   \n",
      "                                                                 \n",
      " dropout_3 (Dropout)         (None, 256)               0         \n",
      "                                                                 \n",
      " dense_1 (Dense)             (None, 4)                 1028      \n",
      "                                                                 \n",
      "=================================================================\n",
      "Total params: 8518596 (32.50 MB)\n",
      "Trainable params: 8518148 (32.49 MB)\n",
      "Non-trainable params: 448 (1.75 KB)\n",
      "_________________________________________________________________\n",
      "None\n"
     ]
    }
   ],
   "source": [
    "#creating model\n",
    "model = Sequential()\n",
    "model.add(Conv2D(filters=32,kernel_size=2,padding='Same',input_shape = (128,128,3)))\n",
    "\n",
    "\n",
    "model.add(Conv2D(filters=32,kernel_size=2,padding='Same',activation='relu'))\n",
    "model.add(BatchNormalization())\n",
    "model.add(MaxPooling2D(pool_size=(2,2),strides=(2,2)))\n",
    "model.add(Dropout(0.25))\n",
    "model.add(Conv2D(filters=64,kernel_size=2,padding='Same',activation='relu'))\n",
    "model.add(Conv2D(filters=64,kernel_size=2,padding='Same',activation='relu'))\n",
    "model.add(BatchNormalization())\n",
    "model.add(MaxPooling2D(pool_size=(2,2),strides=(2,2)))\n",
    "model.add(Dropout(0.25))\n",
    "model.add(Conv2D(filters=128,kernel_size=2,padding='Same',activation='relu'))\n",
    "model.add(Conv2D(filters=128,kernel_size=2,padding='Same',activation='relu'))\n",
    "model.add(BatchNormalization())\n",
    "model.add(MaxPooling2D(pool_size=(2,2),strides=(2,2)))\n",
    "model.add(Dropout(0.25))\n",
    "\n",
    "\n",
    "model.add(Flatten())\n",
    "model.add(Dense(256,activation='relu'))\n",
    "model.add(Dropout(0.25))\n",
    "model.add(Dense(4,activation='sigmoid'))\n",
    "print(model.summary())"
   ]
  },
  {
   "cell_type": "code",
   "execution_count": 11,
   "metadata": {},
   "outputs": [
    {
     "name": "stdout",
     "output_type": "stream",
     "text": [
      "Epoch 1/50\n",
      "39/39 [==============================] - 39s 937ms/step - loss: 6.2334 - accuracy: 0.4135 - val_loss: 3.1221 - val_accuracy: 0.2492\n",
      "Epoch 2/50\n",
      "39/39 [==============================] - 38s 985ms/step - loss: 0.8843 - accuracy: 0.6378 - val_loss: 1.0536 - val_accuracy: 0.4856\n",
      "Epoch 3/50\n",
      "39/39 [==============================] - 35s 907ms/step - loss: 0.6988 - accuracy: 0.7043 - val_loss: 0.8284 - val_accuracy: 0.6901\n",
      "Epoch 4/50\n",
      "39/39 [==============================] - 35s 896ms/step - loss: 0.6114 - accuracy: 0.7524 - val_loss: 0.9821 - val_accuracy: 0.6230\n",
      "Epoch 5/50\n",
      "39/39 [==============================] - 35s 900ms/step - loss: 0.5452 - accuracy: 0.7780 - val_loss: 0.6989 - val_accuracy: 0.6965\n",
      "Epoch 6/50\n",
      "39/39 [==============================] - 34s 883ms/step - loss: 0.4497 - accuracy: 0.8093 - val_loss: 0.6526 - val_accuracy: 0.7220\n",
      "Epoch 7/50\n",
      "39/39 [==============================] - 34s 880ms/step - loss: 0.3718 - accuracy: 0.8558 - val_loss: 0.5146 - val_accuracy: 0.8211\n",
      "Epoch 8/50\n",
      "39/39 [==============================] - 30s 775ms/step - loss: 0.3331 - accuracy: 0.8734 - val_loss: 0.5263 - val_accuracy: 0.7827\n",
      "Epoch 9/50\n",
      "39/39 [==============================] - 30s 768ms/step - loss: 0.3126 - accuracy: 0.8710 - val_loss: 0.4618 - val_accuracy: 0.8179\n",
      "Epoch 10/50\n",
      "39/39 [==============================] - 30s 763ms/step - loss: 0.3077 - accuracy: 0.8798 - val_loss: 0.7164 - val_accuracy: 0.7476\n",
      "Epoch 11/50\n",
      "39/39 [==============================] - 32s 835ms/step - loss: 0.2706 - accuracy: 0.8990 - val_loss: 0.6899 - val_accuracy: 0.7540\n",
      "Epoch 12/50\n",
      "39/39 [==============================] - 33s 852ms/step - loss: 0.2149 - accuracy: 0.9087 - val_loss: 1.3968 - val_accuracy: 0.6486\n",
      "Epoch 13/50\n",
      "39/39 [==============================] - 33s 849ms/step - loss: 0.1833 - accuracy: 0.9375 - val_loss: 0.3989 - val_accuracy: 0.8594\n",
      "Epoch 14/50\n",
      "39/39 [==============================] - 33s 836ms/step - loss: 0.1958 - accuracy: 0.9239 - val_loss: 0.8049 - val_accuracy: 0.7604\n",
      "Epoch 15/50\n",
      "39/39 [==============================] - 33s 839ms/step - loss: 0.1925 - accuracy: 0.9263 - val_loss: 0.4068 - val_accuracy: 0.8562\n",
      "Epoch 16/50\n",
      "39/39 [==============================] - 33s 842ms/step - loss: 0.1536 - accuracy: 0.9367 - val_loss: 0.4050 - val_accuracy: 0.8722\n",
      "Epoch 17/50\n",
      "39/39 [==============================] - 33s 840ms/step - loss: 0.1820 - accuracy: 0.9351 - val_loss: 2.6199 - val_accuracy: 0.5304\n",
      "Epoch 18/50\n",
      "39/39 [==============================] - 33s 846ms/step - loss: 0.1412 - accuracy: 0.9439 - val_loss: 0.6847 - val_accuracy: 0.8051\n",
      "Epoch 19/50\n",
      "39/39 [==============================] - 35s 891ms/step - loss: 0.1083 - accuracy: 0.9559 - val_loss: 0.3597 - val_accuracy: 0.8914\n",
      "Epoch 20/50\n",
      "39/39 [==============================] - 35s 893ms/step - loss: 0.1061 - accuracy: 0.9567 - val_loss: 0.3080 - val_accuracy: 0.9010\n",
      "Epoch 21/50\n",
      "39/39 [==============================] - 33s 853ms/step - loss: 0.1265 - accuracy: 0.9503 - val_loss: 0.5159 - val_accuracy: 0.8658\n",
      "Epoch 22/50\n",
      "39/39 [==============================] - 33s 849ms/step - loss: 0.0962 - accuracy: 0.9615 - val_loss: 0.8314 - val_accuracy: 0.8243\n",
      "Epoch 23/50\n",
      "39/39 [==============================] - 33s 850ms/step - loss: 0.1139 - accuracy: 0.9615 - val_loss: 0.5739 - val_accuracy: 0.8466\n",
      "Epoch 24/50\n",
      "39/39 [==============================] - 33s 856ms/step - loss: 0.0892 - accuracy: 0.9671 - val_loss: 0.4267 - val_accuracy: 0.9042\n",
      "Epoch 25/50\n",
      "39/39 [==============================] - 34s 862ms/step - loss: 0.1146 - accuracy: 0.9567 - val_loss: 0.3205 - val_accuracy: 0.8914\n",
      "Epoch 26/50\n",
      "39/39 [==============================] - 34s 862ms/step - loss: 0.0834 - accuracy: 0.9663 - val_loss: 0.3149 - val_accuracy: 0.8914\n",
      "Epoch 27/50\n",
      "39/39 [==============================] - 33s 845ms/step - loss: 0.1000 - accuracy: 0.9599 - val_loss: 0.3388 - val_accuracy: 0.8882\n",
      "Epoch 28/50\n",
      "39/39 [==============================] - 33s 840ms/step - loss: 0.0979 - accuracy: 0.9655 - val_loss: 0.4916 - val_accuracy: 0.8850\n",
      "Epoch 29/50\n",
      "39/39 [==============================] - 34s 869ms/step - loss: 0.0668 - accuracy: 0.9736 - val_loss: 0.3039 - val_accuracy: 0.9169\n",
      "Epoch 30/50\n",
      "39/39 [==============================] - 30s 780ms/step - loss: 0.0882 - accuracy: 0.9615 - val_loss: 0.3780 - val_accuracy: 0.9105\n",
      "Epoch 31/50\n",
      "39/39 [==============================] - 32s 821ms/step - loss: 0.0713 - accuracy: 0.9688 - val_loss: 0.3586 - val_accuracy: 0.8946\n",
      "Epoch 32/50\n",
      "39/39 [==============================] - 33s 847ms/step - loss: 0.0873 - accuracy: 0.9655 - val_loss: 0.4003 - val_accuracy: 0.9169\n",
      "Epoch 33/50\n",
      "39/39 [==============================] - 33s 842ms/step - loss: 0.0636 - accuracy: 0.9704 - val_loss: 0.3713 - val_accuracy: 0.9010\n",
      "Epoch 34/50\n",
      "39/39 [==============================] - 33s 847ms/step - loss: 0.1076 - accuracy: 0.9575 - val_loss: 0.4792 - val_accuracy: 0.8850\n",
      "Epoch 35/50\n",
      "39/39 [==============================] - 33s 841ms/step - loss: 0.0997 - accuracy: 0.9623 - val_loss: 0.3724 - val_accuracy: 0.9137\n",
      "Epoch 36/50\n",
      "39/39 [==============================] - 33s 844ms/step - loss: 0.0902 - accuracy: 0.9639 - val_loss: 0.3494 - val_accuracy: 0.9073\n",
      "Epoch 37/50\n",
      "39/39 [==============================] - 33s 837ms/step - loss: 0.0951 - accuracy: 0.9647 - val_loss: 0.5062 - val_accuracy: 0.8914\n",
      "Epoch 38/50\n",
      "39/39 [==============================] - 33s 839ms/step - loss: 0.0939 - accuracy: 0.9671 - val_loss: 0.7753 - val_accuracy: 0.8371\n",
      "Epoch 39/50\n",
      "39/39 [==============================] - 33s 846ms/step - loss: 0.1424 - accuracy: 0.9591 - val_loss: 0.4097 - val_accuracy: 0.9042\n",
      "Epoch 40/50\n",
      "39/39 [==============================] - 33s 843ms/step - loss: 0.1312 - accuracy: 0.9607 - val_loss: 0.4942 - val_accuracy: 0.8754\n",
      "Epoch 41/50\n",
      "39/39 [==============================] - 32s 809ms/step - loss: 0.0993 - accuracy: 0.9631 - val_loss: 0.6862 - val_accuracy: 0.8498\n",
      "Epoch 42/50\n",
      "39/39 [==============================] - 22s 569ms/step - loss: 0.0685 - accuracy: 0.9704 - val_loss: 0.4775 - val_accuracy: 0.9105\n",
      "Epoch 43/50\n",
      "39/39 [==============================] - 22s 571ms/step - loss: 0.0633 - accuracy: 0.9768 - val_loss: 0.4025 - val_accuracy: 0.9105\n",
      "Epoch 44/50\n",
      "39/39 [==============================] - 22s 571ms/step - loss: 0.0561 - accuracy: 0.9784 - val_loss: 0.4930 - val_accuracy: 0.8882\n",
      "Epoch 45/50\n",
      "39/39 [==============================] - 22s 570ms/step - loss: 0.0595 - accuracy: 0.9736 - val_loss: 0.3168 - val_accuracy: 0.9265\n",
      "Epoch 46/50\n",
      "39/39 [==============================] - 22s 572ms/step - loss: 0.0402 - accuracy: 0.9848 - val_loss: 0.3760 - val_accuracy: 0.9169\n",
      "Epoch 47/50\n",
      "39/39 [==============================] - 22s 571ms/step - loss: 0.0490 - accuracy: 0.9768 - val_loss: 0.4074 - val_accuracy: 0.9105\n",
      "Epoch 48/50\n",
      "39/39 [==============================] - 22s 572ms/step - loss: 0.0543 - accuracy: 0.9760 - val_loss: 0.3472 - val_accuracy: 0.9265\n",
      "Epoch 49/50\n",
      "39/39 [==============================] - 22s 574ms/step - loss: 0.0520 - accuracy: 0.9832 - val_loss: 0.4349 - val_accuracy: 0.9169\n",
      "13/13 [==============================] - 2s 127ms/step - loss: 0.3653 - accuracy: 0.9156\n"
     ]
    },
    {
     "data": {
      "text/plain": [
       "[0.36528876423835754, 0.9156010150909424]"
      ]
     },
     "execution_count": 11,
     "metadata": {},
     "output_type": "execute_result"
    }
   ],
   "source": [
    "model.compile(optimizer='adam',loss='sparse_categorical_crossentropy',metrics=['accuracy'])\n",
    "\n",
    "\n",
    "from keras.callbacks import EarlyStopping\n",
    "early_stopping=EarlyStopping(\n",
    "    monitor=\"val_loss\",\n",
    "    min_delta=0.00001,\n",
    "    patience=20,\n",
    "    verbose=0,\n",
    "    mode=\"auto\",\n",
    "    baseline=None,\n",
    "    restore_best_weights=False,\n",
    "    start_from_epoch=0,\n",
    ")\n",
    "history= model.fit(X_train,y_train, validation_split=0.2,epochs=50,callbacks=[early_stopping],batch_size=32)\n",
    "model.evaluate(X_test,y_test)"
   ]
  },
  {
   "cell_type": "code",
   "execution_count": 35,
   "metadata": {},
   "outputs": [
    {
     "data": {
      "image/png": "[encoded data removed]",
      "text/plain": [
       "<Figure size 640x480 with 1 Axes>"
      ]
     },
     "metadata": {},
     "output_type": "display_data"
    }
   ],
   "source": [
    "%matplotlib inline \n",
    "plt.plot(history.history['accuracy'],label='train')\n",
    "plt.plot(history.history['val_accuracy'],label='validation')\n",
    "plt.legend()\n",
    "plt.show()"
   ]
  }
 ],
 "metadata": {
  "kernelspec": {
   "display_name": "Python 3",
   "language": "python",
   "name": "python3"
  },
  "language_info": {
   "codemirror_mode": {
    "name": "ipython",
    "version": 3
   },
   "file_extension": ".py",
   "mimetype": "text/x-python",
   "name": "python",
   "nbconvert_exporter": "python",
   "pygments_lexer": "ipython3",
   "version": "3.8.10"
  }
 },
 "nbformat": 4,
 "nbformat_minor": 2
}
